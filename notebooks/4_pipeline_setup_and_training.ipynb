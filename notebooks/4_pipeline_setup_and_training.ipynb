{
 "cells": [
  {
   "cell_type": "markdown",
   "metadata": {},
   "source": [
    "# Part 1"
   ]
  },
  {
   "cell_type": "markdown",
   "metadata": {},
   "source": [
    "## Setting up the pipeline"
   ]
  },
  {
   "cell_type": "code",
   "execution_count": 1,
   "metadata": {},
   "outputs": [],
   "source": [
    "import spacy\n",
    "import random"
   ]
  },
  {
   "cell_type": "code",
   "execution_count": 2,
   "metadata": {},
   "outputs": [],
   "source": [
    "#Create a blank \"en\" model\n",
    "nlp = spacy.blank(\"en\")"
   ]
  },
  {
   "cell_type": "code",
   "execution_count": 3,
   "metadata": {},
   "outputs": [],
   "source": [
    "#Create a new entity recognizer (NER) and add it to the pipeline\n",
    "ner = nlp.create_pipe(\"ner\")"
   ]
  },
  {
   "cell_type": "code",
   "execution_count": 4,
   "metadata": {},
   "outputs": [],
   "source": [
    "nlp.add_pipe(ner)"
   ]
  },
  {
   "cell_type": "code",
   "execution_count": 5,
   "metadata": {},
   "outputs": [],
   "source": [
    "#Add the label \"GADGET\" to the entity recognizer\n",
    "ner.add_label(\"GADGET\")"
   ]
  },
  {
   "cell_type": "markdown",
   "metadata": {},
   "source": [
    "# Part 2"
   ]
  },
  {
   "cell_type": "markdown",
   "metadata": {},
   "source": [
    "## Building a training loop"
   ]
  },
  {
   "cell_type": "code",
   "execution_count": 6,
   "metadata": {},
   "outputs": [],
   "source": [
    "TRAINING_DATA = [\n",
    "    [\"How to preorder the iPhone X\", { \"entities\": [[20, 28, \"GADGET\"]] }],\n",
    "    [\"iPhone X is coming\", { \"entities\": [[0, 8, \"GADGET\"]] }],\n",
    "    [\"Should I pay $1,000 for the iPhone X?\", { \"entities\": [[28, 36, \"GADGET\"]] }],\n",
    "    [\"The iPhone 8 reviews are here\", { \"entities\": [[4, 12, \"GADGET\"]] }],\n",
    "    [\"Your iPhone goes up to 11 today\", { \"entities\": [[5, 11, \"GADGET\"]] }],\n",
    "    [\"I need a new phone! Any tips?\", { \"entities\": [] }]\n",
    "]"
   ]
  },
  {
   "cell_type": "code",
   "execution_count": 7,
   "metadata": {},
   "outputs": [
    {
     "data": {
      "text/plain": [
       "<thinc.neural.optimizers.Optimizer at 0x7ff9c6483a90>"
      ]
     },
     "execution_count": 7,
     "metadata": {},
     "output_type": "execute_result"
    }
   ],
   "source": [
    "#Start training\n",
    "nlp.begin_training()"
   ]
  },
  {
   "cell_type": "code",
   "execution_count": 8,
   "metadata": {},
   "outputs": [
    {
     "name": "stdout",
     "output_type": "stream",
     "text": [
      "{'ner': 12.499999403953552}\n",
      "{'ner': 20.466640055179596}\n",
      "{'ner': 32.72204738855362}\n",
      "{'ner': 11.28369152545929}\n",
      "{'ner': 17.66452729701996}\n",
      "{'ner': 21.0206987708807}\n",
      "{'ner': 2.9593917094171047}\n",
      "{'ner': 5.885798824951053}\n",
      "{'ner': 7.159298332408071}\n",
      "{'ner': 1.1765079422621056}\n",
      "{'ner': 2.9953954825759865}\n",
      "{'ner': 9.530439487127296}\n",
      "{'ner': 4.5745042379858205}\n",
      "{'ner': 8.634243914289982}\n",
      "{'ner': 10.001853039582784}\n",
      "{'ner': 1.4796149948742823}\n",
      "{'ner': 4.44459305905184}\n",
      "{'ner': 7.373519114371447}\n",
      "{'ner': 1.9176492863339263}\n",
      "{'ner': 3.9297353154984194}\n",
      "{'ner': 6.475966222759325}\n",
      "{'ner': 2.1891717616817914}\n",
      "{'ner': 2.7082739954348654}\n",
      "{'ner': 3.5943091273655767}\n",
      "{'ner': 0.07617081670014159}\n",
      "{'ner': 1.5059844541961525}\n",
      "{'ner': 1.5309942009394604}\n",
      "{'ner': 0.002209526499200365}\n",
      "{'ner': 0.002414721795339858}\n",
      "{'ner': 2.3705516017932524}\n"
     ]
    }
   ],
   "source": [
    "for itn in range(10):\n",
    "    random.shuffle(TRAINING_DATA)\n",
    "    losses = {}\n",
    "    \n",
    "    #Divide examples into batches\n",
    "    for batch in spacy.util.minibatch(TRAINING_DATA, size=2):\n",
    "        texts = [text for text, entities in batch]\n",
    "        annotations = [entities for text, entities in batch]\n",
    "        #Update model\n",
    "        nlp.update(texts, annotations, losses=losses)\n",
    "        print(losses)"
   ]
  }
 ],
 "metadata": {
  "kernelspec": {
   "display_name": "Python 3",
   "language": "python",
   "name": "python3"
  },
  "language_info": {
   "codemirror_mode": {
    "name": "ipython",
    "version": 3
   },
   "file_extension": ".py",
   "mimetype": "text/x-python",
   "name": "python",
   "nbconvert_exporter": "python",
   "pygments_lexer": "ipython3",
   "version": "3.6.10"
  }
 },
 "nbformat": 4,
 "nbformat_minor": 4
}
